{
 "cells": [
  {
   "cell_type": "markdown",
   "metadata": {},
   "source": [
    "# EGM722 - Week 3 Practical: Vector data using shapely and geopandas\n",
    "\n",
    "## Overview\n",
    "\n",
    "Up to now, you have gained some experience working with basic features of python, and used cartopy and matplotlib to create a map. In each of these practicals, you have loaded different vector datasets using a module called geopandas. In this week's practical, we'll be looking at working vector data in a bit more depth, including the different geometry types available using shapely, analyses like spatial joins and summarizing based on attributes, and how to reproject vector data from one coordinate reference system to another.\n",
    "\n",
    "\n",
    "## Objectives\n",
    "-  Gain experience working with different vector data types using shapely\n",
    "-  Use geopandas to re-project vector datasets from one coordinate reference system to another\n",
    "-  Summarize features using the groupby method of a GeoDataFrame\n",
    "-  Learn how to perform different vector data operations using geopandas and shapely\n",
    "\n",
    "## Data provided\n",
    "\n",
    "In the data\\_files folder, you should have the following:\n",
    "-  NI_roads.shp, a shapefile of roads in Northern Ireland\n",
    "-  Counties.shp, a shapefile of county outlines for Northern Ireland\n",
    "-  NI_Wards.shp, a shapefile of electoral wards for Northern Ireland\n",
    "\n",
    "## 1. Getting started\n",
    "\n",
    "In this practical, we'll be working with vector data. As a quick refresher, the three main types of vector data that we will work with are:\n",
    "\n",
    "-  __Point__: point data represent a single point in space. For our purposes, points are either two-dimensional (x, y) or three-dimensional (x, y, z). In shapely, the corresponding __class__ of data is a __Point__.\n",
    "-  __Line__: lines are a sequence of at least two points that are joined together. In shapely, the corresponding __class__ of data is known as a __LineString__.\n",
    "-  __Polygon__: polygons are a sequence of at least three points that are connected to form a ring, as well as any additional rings that represent holes in the polygon. In shapely, the corresponding __class__ of data is a __Polygon__.\n",
    "\n",
    "We can also have __Collections__ of vector data, where each feature represents a collection of __Point__, __Line__, or __Polygon__ objects. In shapely, these are represented as __MultiPoint__, __MultiLineString__, or __MultiPolygon__ objects.\n",
    "\n",
    "To get started, run the following cell to import geopandas and shapely."
   ]
  },
  {
   "cell_type": "code",
   "execution_count": null,
   "metadata": {},
   "outputs": [],
   "source": [
    "# this lets us use the figures interactively\n",
    "%matplotlib notebook\n",
    "\n",
    "import pandas as pd\n",
    "import geopandas as gpd\n",
    "from shapely.geometry import Point, LineString, Polygon"
   ]
  },
  {
   "cell_type": "markdown",
   "metadata": {},
   "source": [
    "## 2. Shapely geometry types\n",
    "### 2.1 Points\n",
    "As we saw in Week 1, to create a Point, we pass x, y (and optionally, z) coordinates to the Point class constructor:"
   ]
  },
  {
   "cell_type": "code",
   "execution_count": null,
   "metadata": {},
   "outputs": [],
   "source": [
    "pt = Point(-6.677, 55.150) # creates a 2d point with coordinates -6.677, 55.150\n",
    "pt2 = Point(-6.658, 55.213)\n",
    "\n",
    "pt3d = Point(86.925278, 27.988056, 8848.86) # creates a 3d point\n",
    "\n",
    "print(pt) # print a well-known text (WKT) representation of the Point object"
   ]
  },
  {
   "cell_type": "markdown",
   "metadata": {},
   "source": [
    "The last line, `print(pt)`, prints a [well-known-text](https://en.wikipedia.org/wiki/Well-known_text_representation_of_geometry) (WKT) representation of the __Point__ object. WKT is a standard representation of vector geometry objects - most `python` libraries and GIS softwares are able to read and/or translate WKT into other formats, such as ESRI Shapefiles, GeoJSON, etc.\n",
    "\n",
    "Remember that in python, we can find the attributes and methods for an object by looking up the documentation (for shapely, this can be found [here](https://shapely.readthedocs.io/en/stable/manual.html)), or using the built-in function `dir()`. To find out more about a particular function, we can use the built-in function `help()` (or, in jupyter notebooks/ipython, the `?` operator).\n",
    "\n",
    "As an example, let's use the built-in function `dir()` to look at the methods and attributes associated with the __Point__ class:\n",
    "\n",
    "```python\n",
    "In [1]: print(dir(pt))\n",
    "['__and__', '__array_interface__', '__bool__', '__class__', '__del__', '__delattr__', '__dict__', '__dir__', '__doc__', '__eq__', '__format__', '__ge__', '__geo_interface__', '__geom__', '__getattribute__', '__gt__', '__hash__', '__init__', '__init_subclass__', '__le__', '__lt__', '__module__', '__ne__', '__new__', '__nonzero__', '__or__', '__p__', '__reduce__', '__reduce_ex__', '__repr__', '__setattr__', '__setstate__', '__sizeof__', '__str__', '__sub__', '__subclasshook__', '__weakref__', '__xor__', '_crs', '_ctypes_data', '_geom', '_get_coords', '_is_empty', '_lgeos', '_ndim', '_other_owned', '_repr_svg_', '_set_coords', 'almost_equals', 'area', 'array_interface', 'array_interface_base', 'boundary', 'bounds', 'buffer', 'centroid', 'contains', 'convex_hull', 'coords', 'covers', 'crosses', 'ctypes', 'difference', 'disjoint', 'distance', 'empty', 'envelope', 'equals', 'equals_exact', 'geom_type', 'geometryType', 'has_z', 'hausdorff_distance', 'impl', 'interpolate', 'intersection', 'intersects', 'is_closed', 'is_empty', 'is_ring', 'is_simple', 'is_valid', 'length', 'minimum_clearance', 'minimum_rotated_rectangle', 'overlaps', 'project', 'relate', 'relate_pattern', 'representative_point', 'simplify', 'svg', 'symmetric_difference', 'to_wkb', 'to_wkt', 'touches', 'type', 'union', 'within', 'wkb', 'wkb_hex', 'wkt', 'x', 'xy', 'y', 'z']\n",
    "```\n",
    "\n",
    "Here, in addition to the __special__ or __magic__ methods (denoted with \\_\\_ at the beginning and end of the method name), there are a number of methods that we might find useful, including `Point.distance()`. To see what this method does, we can use `help(Point.distance)`:\n",
    "\n",
    "~~~python\n",
    "In [2]: help(Point.distance)\n",
    "Help on method distance in module shapely.geometry.base:\n",
    "\n",
    "distance(other) method of shapely.geometry.point.Point instance\n",
    "    Unitless distance to other geometry (float)\n",
    "~~~\n",
    "\n",
    "So, `Point.distance()` provides the distance from the point object to some other geometry. Because shapely does not directly deal with coordinate systems, this distance is __unitless__. This means that __we have to make sure that the two objects have the same reference system - if we do not, the distance returned will not make sense.__ We will cover working with coordinate reference systems later on in the practical.\n",
    "\n",
    "<span style=\"color:#009fdf;font-size:1.1em;font-weight:bold\">Use the cell below to work out how we can access the x, y coordinates of a __Point__ object. Can you see more than one way to do this? If so, are there differences between them?</span>"
   ]
  },
  {
   "cell_type": "code",
   "execution_count": null,
   "metadata": {
    "scrolled": false
   },
   "outputs": [],
   "source": []
  },
  {
   "cell_type": "markdown",
   "metadata": {},
   "source": [
    "One of the common operations we might want to do with a Point object is to create a __buffer__ around the point. In the list of associated methods and attributes of Point objects above, you should see there is a method called `buffer`. A look at the help for this method:\n",
    "\n",
    "```python\n",
    "In [3]: help(Point.buffer)\n",
    "Help on method buffer in module shapely.geometry.base:\n",
    "\n",
    "buffer(distance, resolution=16, quadsegs=None, cap_style=1, join_style=1, mitre_limit=5.0, single_sided=False) method of shapely.geometry.point.Point instance\n",
    "    Get a geometry that represents all points within a distance\n",
    "    of this geometry.\n",
    "    \n",
    "    A positive distance produces a dilation, a negative distance an\n",
    "    erosion. A very small or zero distance may sometimes be used to\n",
    "    \"tidy\" a polygon.\n",
    "    \n",
    "    Parameters\n",
    "    ----------\n",
    "    distance : float\n",
    "        The distance to buffer around the object.\n",
    "    resolution : int, optional\n",
    "        The resolution of the buffer around each vertex of the\n",
    "        object.\n",
    "...\n",
    "```\n",
    "\n",
    "shows that `buffer` takes a __positional parameter__ of _distance_, as well as a number of __keyword parameters__ that determine how the buffer operation is done. Remember that the buffer distance will be in the same coordinate system as our point - shapely does not, by itself, do any conversion between coordinate systems or units. \n",
    "\n",
    "Note that the object returned by buffer is a Polygon, rather than a point - this makes sense, as the buffer is a two-dimensional surface around the point location.   "
   ]
  },
  {
   "cell_type": "code",
   "execution_count": null,
   "metadata": {},
   "outputs": [],
   "source": [
    "pt_buffer = pt.buffer(0.001)\n",
    "print(type(pt_buffer))"
   ]
  },
  {
   "cell_type": "markdown",
   "metadata": {},
   "source": [
    "### 2.2. LineStrings\n",
    "Instead of using a single x, y coordinate pair, a __LineString__ object takes either a list of __Point__ objects, or a list of coordinate __tuples__:"
   ]
  },
  {
   "cell_type": "code",
   "execution_count": null,
   "metadata": {},
   "outputs": [],
   "source": [
    "line1 = LineString([pt, pt2]) # method one of creating a LineString, using a list of Point objects\n",
    "line2 = LineString([(-6.677, 55.150), (-6.658, 55.213)]) # method two, using a list of coordinate tuples\n",
    "\n",
    "print(line1)\n",
    "print(line2)\n",
    "\n",
    "line1.equals(line2) # check to see if these are the same geometry"
   ]
  },
  {
   "cell_type": "markdown",
   "metadata": {},
   "source": [
    "The coordinates of a __LineString__ are stored as a __tuple__ in an attribute called __xy__. The __tuple__ has two items representing the X and Y coordinate values. If we want the x and y coordinates as separate variables, we can access them using their respective indices:\n",
    "\n",
    "```python\n",
    "In [4]: x = line1.xy[0]\n",
    "In [5]: y = line1.xy[1]\n",
    "```\n",
    "\n",
    "We can also combine this using __tuple assignment__, or __unpacking__, which assigns values from a __tuple__ on the right-hand side of the assignment to a comma-separated grouping of variables on the left-hand side:"
   ]
  },
  {
   "cell_type": "code",
   "execution_count": null,
   "metadata": {},
   "outputs": [],
   "source": [
    "x, y = line1.xy\n",
    "\n",
    "print(x)\n",
    "print(y)"
   ]
  },
  {
   "cell_type": "markdown",
   "metadata": {},
   "source": [
    "__LineString__ objects have a number of the same methods that __Point__ objects do, including `buffer` and `distance`. __LineString__ objects also have a `length` (just like with distance, it is __unitless__):"
   ]
  },
  {
   "cell_type": "code",
   "execution_count": null,
   "metadata": {},
   "outputs": [],
   "source": [
    "print(line1.length)"
   ]
  },
  {
   "cell_type": "markdown",
   "metadata": {},
   "source": [
    "We can also find the `centroid` (center) of the __LineString__:"
   ]
  },
  {
   "cell_type": "code",
   "execution_count": null,
   "metadata": {},
   "outputs": [],
   "source": [
    "center = line1.centroid # get the centerpoint of the line\n",
    "print(line1.centroid)"
   ]
  },
  {
   "cell_type": "markdown",
   "metadata": {},
   "source": [
    "The last two methods of __LineString__ objects that we will explore for now are `project` and `interpolate`:\n",
    "\n",
    "```python\n",
    "In [6]: help(LineString.project)\n",
    "Help on function project in module shapely.geometry.base:\n",
    "\n",
    "project(self, other, normalized=False)\n",
    "    Returns the distance along this geometry to a point nearest the\n",
    "    specified point\n",
    "    \n",
    "    If the normalized arg is True, return the distance normalized to the\n",
    "    length of the linear geometry.\n",
    "```\n",
    "\n",
    "So `project` returns the distance along the __LineString__ that comes closest to the __Point__ (or other object). `interpolate`, on the other hand, does something a bit different:\n",
    "\n",
    "```python\n",
    "In [7]: help(LineString.interpolate)\n",
    "Help on function interpolate in module shapely.geometry.base:\n",
    "\n",
    "interpolate(self, distance, normalized=False)\n",
    "    Return a point at the specified distance along a linear geometry\n",
    "    \n",
    "    Negative length values are taken as measured in the reverse\n",
    "    direction from the end of the geometry. Out-of-range index\n",
    "    values are handled by clamping them to the valid range of values.\n",
    "    If the normalized arg is True, the distance will be interpreted as a\n",
    "    fraction of the geometry's length.\n",
    "```\n",
    "\n",
    "it returns the point along the line at a specified distance; the distance can be in the units of the __LineString__'s coordinates (`normalized=False`), or it can be as a fraction of the total length of the __LineString__ (`normalized=True`)."
   ]
  },
  {
   "cell_type": "code",
   "execution_count": null,
   "metadata": {},
   "outputs": [],
   "source": [
    "line1.project(center) / line1.length # check to see how far along the line our centerpoint is\n",
    "\n",
    "print(center)\n",
    "print(line1.interpolate(0.5, normalized=True))"
   ]
  },
  {
   "cell_type": "markdown",
   "metadata": {},
   "source": [
    "###  2.3. Polygons\n",
    "The last basic geometry type we will look at in this practical are __Polygon__ objects. Similar to __LineString__ objects, we can create a __Polygon__ object using a list of coordinate pairs, or a list of __Point__ objects:"
   ]
  },
  {
   "cell_type": "code",
   "execution_count": null,
   "metadata": {},
   "outputs": [],
   "source": [
    "poly1 = Polygon([(-6.677, 55.150), (-6.658, 55.213), (-6.722, 55.189)])\n",
    "poly2 = Polygon([pt, pt2, Point(-6.722, 55.189)])\n",
    "\n",
    "print(poly1) # print a well\n",
    "print(poly2)\n",
    "print(poly1.equals(poly2))"
   ]
  },
  {
   "cell_type": "markdown",
   "metadata": {},
   "source": [
    "Note that even though we only passed three __Point__ objects (or coordinate pairs) to the __Polygon__ constructor, the __Polygon__ has four vertices, with the first and last vertex being the same - this is because the __Polygon__ exterior is _closed_. Note also the double parentheses - this is because a __Polygon__ potentially has two sets of coordinates - the _Shell_, or _exterior_, and _holes_, or _interiors_. To create a __Polygon__ with a hole in it, we would need to pass a list of coordinates that describe the _holes_:"
   ]
  },
  {
   "cell_type": "code",
   "execution_count": null,
   "metadata": {},
   "outputs": [],
   "source": [
    "polygon_with_hole = Polygon(shell=[(-6.677, 55.150), (-6.658, 55.213), (-6.722, 55.189)],\n",
    "                            holes=[[(-6.684, 55.168), (-6.704, 55.187), (-6.672, 55.196)]]) # note the double brackets\n",
    "\n",
    "print(polygon_with_hole)"
   ]
  },
  {
   "cell_type": "markdown",
   "metadata": {},
   "source": [
    "Note the double brackets in the `holes` keyword argument - this is necessary, because `holes` is expecting a sequence of coordinate sequences that describe the _holes_ - effectively, a list of __Polygon__ shells.\n",
    "\n",
    "Accessing the coordinates of a __Polygon__ object is a little more complicated than it is for __Point__ and __LineString__ objects - this is because __Polygon__ objects have two sets of coordinates, the exterior (_shell_) and interior (_holes_). But, the `exterior` attribute of the __Polygon__ is just a __LinearRing__ (a special case of __LineString__ where the first and last coordinates are the same), and the `interiors` attribute is an __InteriorRingSequence__ (basically, a collection of __LinearRings__ that have to obey [additional rules](https://shapely.readthedocs.io/en/stable/manual.html#polygons)):"
   ]
  },
  {
   "cell_type": "code",
   "execution_count": null,
   "metadata": {},
   "outputs": [],
   "source": [
    "print(polygon_with_hole.exterior) # this is a single LinearRing\n",
    "for lr in polygon_with_hole.interiors: # this is potentially multiple LinearRing objects\n",
    "    print(lr)"
   ]
  },
  {
   "cell_type": "markdown",
   "metadata": {},
   "source": [
    "__Polygon__ objects have nonzero `area` and non-zero `length` (perimeter) - as with the equivalent attributes for __Point__ and __LineString__ objects, these are __unitless__. __Polygon__ objects also have a `centroid`, and we can bound the geometry using _either_ the minimum bounding box parallel to the coordinate axes (`envelope`), or a rotated minimum bounding box (`minimum_rotated_rectangle`):"
   ]
  },
  {
   "cell_type": "code",
   "execution_count": null,
   "metadata": {},
   "outputs": [],
   "source": [
    "print('perimeter: ', poly1.length) # print the perimeter\n",
    "print('area: ', poly1.area) # print the area\n",
    "print('centroid: ', poly1.centroid) # get the centerpoint of the rectangle\n",
    "print('bounding coordinates: ', poly1.bounds) # get the minimum x, minimum y, maximum x, maximum y coordinates\n",
    "print('bounding box: ', poly1.envelope) # get the minimum bounding rectangle of the polygon, parallel to the coordinate axes\n",
    "print('rotated bounding box: ', poly1.minimum_rotated_rectangle) # get the smallest possible rectangle that covers the polygon"
   ]
  },
  {
   "cell_type": "markdown",
   "metadata": {},
   "source": [
    "There are a number of additional methods that we will cover more as we continue through the practicals - for now, this should be enough to give an idea for how these geometry objects work.\n",
    "\n",
    "### 2.4 Interactions between geometry objects\n",
    "`shapely` also provides a number of methods that we can use to check the spatial relationship between different objects. For example, the following code shows how we can use the `contains` [method](https://shapely.readthedocs.io/en/stable/manual.html#object.contains) of a shapely geometry object to see whether a __Point__ (or other geometry) is located fully within the object:"
   ]
  },
  {
   "cell_type": "code",
   "execution_count": null,
   "metadata": {},
   "outputs": [],
   "source": [
    "poly = Polygon([(0, 0), (2, 0), (2, 3), (0, 3)])\n",
    "pt1 = Point(0, -0.1)\n",
    "pt2 = Point(1, 1)\n",
    "\n",
    "print(poly.contains(pt1))\n",
    "print(poly.contains(pt2))"
   ]
  },
  {
   "cell_type": "markdown",
   "metadata": {},
   "source": [
    "We can also check to see whether two geometry objects [intersect](https://shapely.readthedocs.io/en/stable/manual.html#object.intersects) using the `intersects` method. To actually get the intersection of the two geometries, we use the `intersection` method, which returns the geometry of the intersection (whether this is a __Point__, a __LineString__, a __Polygon__, or a mixed collection of geometries depends on the geometries and how they intersect): "
   ]
  },
  {
   "cell_type": "code",
   "execution_count": null,
   "metadata": {},
   "outputs": [],
   "source": [
    "line1 = LineString([(0, 0), (1, 1)])\n",
    "line2 = LineString([(0, 1), (1, 0)])\n",
    "\n",
    "print(line1.intersects(line2)) # intersects() returns True if the geometries touch/intersect/overlap, False otherwise\n",
    "print(line1.intersects(poly))\n",
    "print(line1.intersection(line2)) # if the geometries intersect, this will be the Point(s) of intersection"
   ]
  },
  {
   "cell_type": "markdown",
   "metadata": {},
   "source": [
    "There are a number of other methods provided by `shapely` that we can use to determine the relationship between geometry objects, including `touches`, `within`, and `overlaps`. Have a look at the full list from the [shapely user manual](https://shapely.readthedocs.io/en/stable/manual.html) to see the rest.\n",
    "\n",
    "## 3. geopandas GeoDataFrames"
   ]
  },
  {
   "cell_type": "markdown",
   "metadata": {},
   "source": [
    "We have used geopandas in the past two practicals to read provided shapefiles and work with the data they contain - in Practical 1, we translated a comma-separated variable (CSV) file into a shapefile, and in Practical 2, we read shapefile data and plotted it on a map using `cartopy`.\n",
    "\n",
    "This week, we will extend this introduction to look at how we can use geopandas to do various GIS analyses, such as spatial joins and clipping operations, as well as projecting from one coordinate reference system to another.\n",
    "\n",
    "To begin, load the __NI_roads__ dataset from the __data_files__ folder and print the __header__ (first 5 lines of the __GeoDataFrame__):"
   ]
  },
  {
   "cell_type": "code",
   "execution_count": null,
   "metadata": {},
   "outputs": [],
   "source": [
    "roads = gpd.read_file('data_files/NI_roads.shp')\n",
    "print(roads.head())"
   ]
  },
  {
   "cell_type": "markdown",
   "metadata": {},
   "source": [
    "So this dataset has three columns: __SURVEY__, __Road_class__, and __geometry__. Note that each of the geometries is a __LineString__ object, which means...\n",
    "\n",
    "### 3.1 Coordinate reference systems using PROJ\n",
    "To start with, let's see if we can figure out how many kilometers of motorway are represented in the dataset - i.e., the sum of the length of all of the __LineString__ objects that have the attribute _MOTORWAY_. First, Let's check what the coordinate reference system (CRS) of our __GeoDataFrame__ is, using the `crs` attribute:"
   ]
  },
  {
   "cell_type": "code",
   "execution_count": null,
   "metadata": {},
   "outputs": [],
   "source": [
    "roads.crs"
   ]
  },
  {
   "cell_type": "markdown",
   "metadata": {},
   "source": [
    "So this dataset has a _Geographic_ coordinate reference system, __EPSG:4326__. EPSG codes (originally organized by the European Petroleum Survey Group) are a common way of working with coordinate reference systems. Each CRS in the [EPSG registry](https://epsg.org/home.html) has a unique code and standard well-known text representation.\n",
    "\n",
    "The `crs` attribute of the __GeoDataFrame__ is actually a __pyproj.CRS__ object. [pyproj](https://pyproj4.github.io/pyproj/stable/) is a python interface to the [PROJ](https://proj.org/) library, which is a software for transforming geospatial coordinates from one CRS to another.\n",
    "\n",
    "Each __pyproj.CRS__ object provides a number of methods for converting to different formats, including well-known text, EPSG codes, JavaScript Object Notation (JSON), and PROJ string (i.e., `'+proj=longlat +datum=WGS84 +no_defs +type=crs'`).\n",
    "\n",
    "Because this is a _Geographic_ CRS, the length information provided by `LineString.length` will also be in geographic units, which doesn't really make sense for us - we first have to convert the __GeoDataFrame__ to a different CRS. To do this, we can use the method `to_crs`:\n",
    "\n",
    "```python\n",
    "In [8]: help(roads.to_crs)\n",
    "Help on method to_crs in module geopandas.geodataframe:\n",
    "\n",
    "to_crs(crs=None, epsg=None, inplace=False) method of geopandas.geodataframe.GeoDataFrame instance\n",
    "    Transform geometries to a new coordinate reference system.\n",
    "    \n",
    "    Transform all geometries in an active geometry column to a different coordinate\n",
    "    reference system.  The ``crs`` attribute on the current GeoSeries must\n",
    "    be set.  Either ``crs`` or ``epsg`` may be specified for output.\n",
    "    \n",
    "    This method will transform all points in all objects. It has no notion\n",
    "    or projecting entire geometries.  All segments joining points are\n",
    "    assumed to be lines in the current projection, not geodesics. Objects\n",
    "    crossing the dateline (or other projection boundary) will have\n",
    "    undesirable behavior.\n",
    "...\n",
    "```\n",
    "\n",
    "So, to transform the __GeoDataFrame__ to a different CRS, we have to provide either a CRS or an EPSG code. We can also choose to do this in place (`inplace=True`), or assign the output to a new __GeoDataFrame__ object (`inplace=False`). Let's transform the __GeoDataFrame__ to Irish Transverse Mercator, and assign the output to a new variable, __roads_itm__. \n",
    "\n",
    "<span style=\"color:#009fdf;font-size:1.1em;font-weight:bold\">Using the search function on the [EPSG registry](https://epsg.org/search/by-name), or using an internet search, look up the EPSG code for the Irish Transverse Mercator CRS and enter it in the method call below:</span>"
   ]
  },
  {
   "cell_type": "code",
   "execution_count": null,
   "metadata": {},
   "outputs": [],
   "source": [
    "roads_itm = roads.to_crs(epsg=)\n",
    "\n",
    "print(roads_itm.head())"
   ]
  },
  {
   "cell_type": "markdown",
   "metadata": {},
   "source": [
    "Note that only the __geometry__ column has changed - instead of geographic coordinates (e.g., (-6.21243, 54.48706)), the points in each __LineString__ should be in a projected CRS (e.g., (715821.764, 861315.722)). Now, when we access the `length` attributes of our __LineString__ objects, the units will be in meters (the same units as our CRS).\n",
    "\n",
    "### 3.2 Summarizing data using geopandas\n",
    "So that's the first part of our problem solved - our coordinates are in meters, and the lengths will be as well. The next step is to select all of the features that correspond to Motorways and sum the lengths. We saw an example of this in Practical 1 - we can slice the __GeoDataFrame__ by returning all of the rows where `'Road_class' == 'MOTORWAY'`:"
   ]
  },
  {
   "cell_type": "code",
   "execution_count": null,
   "metadata": {},
   "outputs": [],
   "source": [
    "roads_itm[roads_itm['Road_class'] == 'MOTORWAY']"
   ]
  },
  {
   "cell_type": "markdown",
   "metadata": {},
   "source": [
    "But first, we might want to add a column to our __GeoDataFrame__ that contains the `length` of each of the features. To do this, we can _iterate_ over the rows of the __GeoDataFrame__ using the `iterrows` method:\n",
    "\n",
    "```python\n",
    "In [9]: help(roads_itm.iterrows)\n",
    "Iterate over DataFrame rows as (index, Series) pairs.\n",
    "\n",
    "Yields\n",
    "------\n",
    "index : label or tuple of label\n",
    "    The index of the row. A tuple for a `MultiIndex`.\n",
    "data : Series\n",
    "    The data of the row as a Series.\n",
    "...\n",
    "```\n",
    "\n",
    "Because `iterrows` returns an (index, Series) pair at each step, we use __tuple assignment__ in our `for` loop. This gives us two variables, `i` and `row`, which we can use in the `for` loop. `i` corresponds to the `index` of the `row`, while `row` corresponds to the actual data of the `row`, with each of the columns that the full __GeoDataFrame__ has.\n",
    "\n",
    "We can access each column in the same way that we do for the full __GeoDataFrame__ - either `row[column]` or `row.column`. We can assign a new column in the original __GeoDataFrame__ using the `.loc` [property](https://pandas.pydata.org/pandas-docs/stable/reference/api/pandas.DataFrame.loc.html), which uses either a _label_ or a __Boolean array__ to index the __GeoDataFrame__. So the line below,\n",
    "\n",
    "```python\n",
    "roads_itm.loc[i, 'Length'] = row['geometry'].length\n",
    "```\n",
    "\n",
    "assigns the `length` property of the row's geometry to a new column, __Length__, at the corresponding index. Putting it all together, it looks like this:"
   ]
  },
  {
   "cell_type": "code",
   "execution_count": null,
   "metadata": {},
   "outputs": [],
   "source": [
    "for i, row in roads_itm.iterrows(): # iterate over each row in the GeoDataFrame\n",
    "    roads_itm.loc[i, 'Length'] = row['geometry'].length # assign the row's geometry length to a new column, Length\n",
    "    \n",
    "print(roads_itm.head()) # print the updated GeoDataFrame to see the changes"
   ]
  },
  {
   "cell_type": "markdown",
   "metadata": {},
   "source": [
    "Finally, we can subset our __GeoDataFrame__ to select only _MOTORWAY_ features, and sum their length:"
   ]
  },
  {
   "cell_type": "code",
   "execution_count": null,
   "metadata": {
    "scrolled": true
   },
   "outputs": [],
   "source": [
    "sum_roads = roads_itm['Length'].sum()\n",
    "sum_motorway = roads_itm[roads_itm['Road_class'] == 'MOTORWAY']['Length'].sum()\n",
    "print('{:.2f} total m of roads'.format(sum_roads))\n",
    "print('{:.2f} total m of motorway'.format(sum_motorway))"
   ]
  },
  {
   "cell_type": "markdown",
   "metadata": {},
   "source": [
    "In the cell above, look at the `print` function argument:\n",
    "\n",
    "```python\n",
    "print('{:.2f} total m of motorway'.format(sum_motorway))\n",
    "```\n",
    "\n",
    "Here, we use the `format` [string method](https://docs.python.org/3.8/library/string.html#format-string-syntax) and curly braces ({ }) to insert the value of our `sum_motorway` variable. Note that within the curly braces, there is a _format specification_ - rather than printing the string in an unformatted way (which would contain a lot of extra decimal places), we can tell the `format` method to clean up the output using `:` and a [format specification](https://docs.python.org/3.8/library/string.html#formatspec). In this case, `.2f` tells the `format` method format the number to have 2 places after the decimal.\n",
    "\n",
    "Let's say now that we want to find the sum of all of the different road classes in our dataset. We could, of course, repeat the exercise above for each of the different values of _Road_class_. But, __pandas__ (and by extension, __geopandas__) provide a nicer way to summarize data based on certain properties: the `groupby` [method](https://pandas.pydata.org/pandas-docs/stable/reference/api/pandas.DataFrame.groupby.html). The `groupby` method returns an object that contains information about the groups; to see different properties, we can call methods like `mean`, `median`, `sum`, etc.\n",
    "\n",
    "If we want to summarize our dataset by _Road_class_ and find the `sum` of the _Length_ of each group, then, it would like this:"
   ]
  },
  {
   "cell_type": "code",
   "execution_count": null,
   "metadata": {},
   "outputs": [],
   "source": [
    "roads_itm.groupby(['Road_class'])['Length'].sum() / 1000 # convert to km"
   ]
  },
  {
   "cell_type": "markdown",
   "metadata": {},
   "source": [
    "The `groupby` method returns a __GeoDataFrame__, which we can then index to return a single column, _Length_. As this is a numeric column, we can also use arithmetic on it to divide by a conversion factor. The `groupby` method is a very useful way to quickly summarize a __DataFrame__ (or a __GeoDataFrame__ - remember that this is a __child__ class of __DataFrame__).\n",
    "\n",
    "## 4. Spatial data operations using geopandas and shapely\n",
    "Oftentimes in GIS analysis, we want to summarize our data spatially, as well as thematically. In this section, we will be looking at two examples of this kind of analysis: first, using a [spatial join](https://gisgeography.com/spatial-join/), and second, using a clipping operation.\n",
    "\n",
    "The cell below will load the Counties shapefile in __data_files__ and test whether the CRS of the `counties` __GeoDataFrame__ is the same as the CRS of the `roads_itm` __GeoDataFrame__. Remember that the __shapely__ geometry objects in the __GeoDataFrame__ don't have any inherent information about the CRS of the object. So, in order to perform operations like a spatial join, we have to first ensure that the two __GeoDataFrame__ objects have the same CRS.\n",
    "\n",
    "<span style=\"color:#009fdf;font-size:1.1em;font-weight:bold\">If, when you first load the shapefile, the test below returns False, write a line of code that will ensure that the test returns True.</span>"
   ]
  },
  {
   "cell_type": "code",
   "execution_count": null,
   "metadata": {},
   "outputs": [],
   "source": [
    "counties = gpd.read_file('data_files/Counties.shp') # load the Counties shapefile\n",
    "# your line of code might go here.\n",
    "print(counties.crs == roads_itm.crs) # test if the crs is the same for roads_itm and counties."
   ]
  },
  {
   "cell_type": "markdown",
   "metadata": {},
   "source": [
    "Now that the two __GeoDataFrame__ objects have the same CRS, we can proceed with the spatial join using `gpd.sjoin`:"
   ]
  },
  {
   "cell_type": "code",
   "execution_count": null,
   "metadata": {},
   "outputs": [],
   "source": [
    "join = gpd.sjoin(counties, roads_itm, how='inner', lsuffix='left', rsuffix='right') # perform the spatial join\n",
    "join # show the joined table"
   ]
  },
  {
   "cell_type": "markdown",
   "metadata": {},
   "source": [
    "Now, we can see that our table has additional columns - we have the unnamed _index_, _COUNTY_ID_, _CountyName_, _Area_SqKM_, _OBJECTID_, and _geometry_ from the `counties` __GeoDataFrame__, and _index_right_ (because it has the same name as _index_ in the left __GeoDataFrame__), _SURVEY_, _Road_class_, and _Length_ from the `roads_itm` __GeoDataFrame__.\n",
    "\n",
    "Like we did with `roads_itm`, we can again summarize our __GeoDataFrame__ using `groupby`; this time, we'll use the _CountyName_ property to see the total length of roads by each county, and by _Road_class_:"
   ]
  },
  {
   "cell_type": "code",
   "execution_count": null,
   "metadata": {},
   "outputs": [],
   "source": [
    "join_total = join['Length'].sum() # find the total length of roads in the join GeoDataFrame\n",
    "print(join.groupby(['CountyName', 'Road_class'])['Length'].sum() / 1000) # summarize the road lengths by CountyName, Road_class\n",
    "\n",
    "print(sum_roads / join_total) # check that the total length of roads is the same between both GeoDataFrames; this should be 1."
   ]
  },
  {
   "cell_type": "markdown",
   "metadata": {},
   "source": [
    "We can see that the total length of roads is __not__ the same in both __GeoDataFrame__ objects - our `join` __GeoDataFrame__ has somehow increased the length of roads.\n",
    "\n",
    "In reality, what has happened here is that we have double-counted any road feature that is located in multiple counties - you can also see this by comparing the total number of objects in the `join` __GeoDataFrame__ and the `roads_itm` __GeoDataFrame__. Obviously, we don't want to double-count roads - to get around this, we can use the `gpd.clip` method to clip `roads_itm` to each of the county boundaries in the `counties` __GeoDataFrame__:\n",
    "\n",
    "```python\n",
    "In [10]: help(gpd.clip)\n",
    "Help on function clip in module geopandas.tools.clip:\n",
    "\n",
    "clip(gdf, mask, keep_geom_type=False)\n",
    "    Clip points, lines, or polygon geometries to the mask extent.\n",
    "    \n",
    "    Both layers must be in the same Coordinate Reference System (CRS).\n",
    "    The `gdf` will be clipped to the full extent of the clip object.\n",
    "    \n",
    "    If there are multiple polygons in mask, data from `gdf` will be\n",
    "    clipped to the total boundary of all polygons in mask.\n",
    "...\n",
    "```\n",
    "\n",
    "But, we have to do this for each of the boundaries - `gpd.clip` will take the total boundary for the __GeoDataFrame__ if there are multiple __Polygon__ objects. Using a `for` loop to loop over the `counties` __GeoDataFrame__, we can clip `roads_itm` to each county, and combine the results in another __GeoDataFrame__:"
   ]
  },
  {
   "cell_type": "code",
   "execution_count": null,
   "metadata": {},
   "outputs": [],
   "source": [
    "clipped = [] # initialize an empty list\n",
    "for county in counties['CountyName'].unique():\n",
    "    tmp_clip = gpd.clip(roads_itm, counties[counties['CountyName'] == county]) # clip the roads by county border\n",
    "    for i, row in tmp_clip.iterrows():\n",
    "        tmp_clip.loc[i, 'Length'] = row['geometry'].length # we have to update the length for any clipped roads\n",
    "        tmp_clip.loc[i, 'CountyName'] = county # set the county name for each road feature    \n",
    "    clipped.append(tmp_clip) # add the clipped GeoDataFrame to the \n",
    "\n",
    "# pandas has a function, concat, which will combine (concatenate) a list of DataFrames (or GeoDataFrames)\n",
    "# we can then create a GeoDataFrame from the combined DataFrame, as the combined DataFrame will have a geometry column.\n",
    "clipped_gdf = gpd.GeoDataFrame(pd.concat(clipped))\n",
    "clip_total = clipped_gdf['Length'].sum()\n",
    "\n",
    "sum_roads / clip_total # check that the total length of roads is the same between both GeoDataFrames; this should be close to 1."
   ]
  },
  {
   "cell_type": "markdown",
   "metadata": {},
   "source": [
    "So we don't have perfect overlap, but this has more to do with the fact that there isn't perfect overlap between the `counties` boundary and the `roads` features - there are a good number of places where the roads extend beyond the boundary. To fix this, we could first clip `roads_itm` to the entire `counties` __GeoDataFrame__, which would eliminate these extraneous stretches of road. For now, though, agrement to within .01% is acceptable for our purposes - much better than the 1.5% disagreement from the spatial join alone.\n",
    "\n",
    "<span style=\"color:#009fdf;font-size:1.1em;font-weight:bold\">To wrap up, write a line or two of code in the cell below that will summarize the `clipped_gdf` __GeoDataFrame__ by county and road type. Which county has the most Motorways? The most roads in total?</span>"
   ]
  },
  {
   "cell_type": "code",
   "execution_count": null,
   "metadata": {},
   "outputs": [],
   "source": [
    "# your code goes here!"
   ]
  },
  {
   "cell_type": "markdown",
   "metadata": {},
   "source": [
    "## 5. Exercise and next steps\n",
    "Now that you've gained some experience working with `shapely` geometry objects and `geopandas` __GeoDataFrame__ objects, have a look at __exercise_script.py__ in this folder. Using the topics covered in the Week 2 practical and this practical, modify this script to do the following:\n",
    "1. Load the counties and ward data\n",
    "2. Using a spatial join, summarize the total population by county. What county has the highest population? What about the lowest?\n",
    "3. Create a map like the one below to show population information by census area, with the county boundaries plotted overtop of the chloropleth map.\n",
    "\n",
    "![](sample_map.png)\n",
    "\n",
    "### Additional exercise questions\n",
    "1. Are there any Wards that are located in more than one county? If so, how many, and what is the total population of these Wards?\n",
    "2. What Ward has the highest population? What about the lowest population?\n",
    "3. Repeat the exercise above using __exercise_script.py__, but this time use the population density (in number of residents per square km)."
   ]
  }
 ],
 "metadata": {
  "kernelspec": {
   "display_name": "Python 3",
   "language": "python",
   "name": "python3"
  },
  "language_info": {
   "codemirror_mode": {
    "name": "ipython",
    "version": 3
   },
   "file_extension": ".py",
   "mimetype": "text/x-python",
   "name": "python",
   "nbconvert_exporter": "python",
   "pygments_lexer": "ipython3",
   "version": "3.8.8"
  }
 },
 "nbformat": 4,
 "nbformat_minor": 4
}
